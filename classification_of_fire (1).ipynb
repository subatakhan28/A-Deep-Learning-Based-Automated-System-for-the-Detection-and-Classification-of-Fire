{
  "nbformat": 4,
  "nbformat_minor": 0,
  "metadata": {
    "colab": {
      "provenance": [],
      "toc_visible": true
    },
    "kernelspec": {
      "name": "python3",
      "display_name": "Python 3"
    },
    "language_info": {
      "name": "python"
    },
    "accelerator": "GPU",
    "gpuClass": "standard"
  },
  "cells": [
    {
      "cell_type": "code",
      "execution_count": null,
      "metadata": {
        "id": "pIM7fOwm8A7l",
        "outputId": "349509a3-cf49-4d3e-a006-aa6cd95e1d1f",
        "colab": {
          "base_uri": "https://localhost:8080/"
        }
      },
      "outputs": [
        {
          "output_type": "stream",
          "name": "stderr",
          "text": [
            "YOLOv5 🚀 v7.0-165-ge382d4c Python-3.10.11 torch-2.0.0+cu118 CUDA:0 (Tesla T4, 15102MiB)\n"
          ]
        },
        {
          "output_type": "stream",
          "name": "stdout",
          "text": [
            "Setup complete ✅ (2 CPUs, 12.7 GB RAM, 23.4/78.2 GB disk)\n"
          ]
        }
      ],
      "source": [
        "!git clone https://github.com/ultralytics/yolov5  # clone\n",
        "%cd yolov5\n",
        "%pip install -qr requirements.txt  # install\n",
        "\n",
        "import torch\n",
        "import utils\n",
        "display = utils.notebook_init()  # checks"
      ]
    },
    {
      "cell_type": "code",
      "source": [
        "!unzip -q ../custom_dataset.zip"
      ],
      "metadata": {
        "id": "a2XrTJi8h8KT",
        "colab": {
          "base_uri": "https://localhost:8080/"
        },
        "outputId": "864eb591-6fc4-4ba7-d284-93cc060f112e"
      },
      "execution_count": null,
      "outputs": [
        {
          "output_type": "stream",
          "name": "stdout",
          "text": [
            "unzip:  cannot find or open ../custom_dataset.zip, ../custom_dataset.zip.zip or ../custom_dataset.zip.ZIP.\n"
          ]
        }
      ]
    },
    {
      "cell_type": "code",
      "source": [
        "from google.colab import drive\n",
        "drive.mount('/content/drive')"
      ],
      "metadata": {
        "colab": {
          "base_uri": "https://localhost:8080/"
        },
        "id": "9WsRO4e5sYZF",
        "outputId": "6f1eb501-1d83-477c-81a9-c4b9f734c468"
      },
      "execution_count": null,
      "outputs": [
        {
          "output_type": "stream",
          "name": "stdout",
          "text": [
            "Mounted at /content/drive\n"
          ]
        }
      ]
    },
    {
      "cell_type": "code",
      "source": [
        "import os\n",
        "os.chdir('/content/drive/MyDrive/fyp_classification/yolov5-master')  # Replace with the actual path where yolov5 repository is located in your Google Drive"
      ],
      "metadata": {
        "id": "WrSsN5N3v99O"
      },
      "execution_count": null,
      "outputs": []
    },
    {
      "cell_type": "code",
      "source": [
        "#training\n",
        "!python classify/train.py --model yolov5s-cls.pt --data custom_dataset --epochs 50 --img 640 --batch 16 --cache"
      ],
      "metadata": {
        "id": "MXWTTN2BEaqe",
        "colab": {
          "base_uri": "https://localhost:8080/"
        },
        "outputId": "840f4bc1-18e0-4839-e959-e3255a5b56fe"
      },
      "execution_count": null,
      "outputs": [
        {
          "metadata": {
            "tags": null
          },
          "name": "stdout",
          "output_type": "stream",
          "text": [
            "2023-05-16 01:07:08.432363: I tensorflow/core/platform/cpu_feature_guard.cc:182] This TensorFlow binary is optimized to use available CPU instructions in performance-critical operations.\n",
            "To enable the following instructions: AVX2 AVX512F FMA, in other operations, rebuild TensorFlow with the appropriate compiler flags.\n",
            "2023-05-16 01:07:09.432965: W tensorflow/compiler/tf2tensorrt/utils/py_utils.cc:38] TF-TRT Warning: Could not find TensorRT\n",
            "\u001b[31m\u001b[1mrequirements:\u001b[0m YOLOv5 requirement \"gitpython\" not found, attempting AutoUpdate...\n",
            "Looking in indexes: https://pypi.org/simple, https://us-python.pkg.dev/colab-wheels/public/simple/\n",
            "Collecting gitpython\n",
            "  Downloading GitPython-3.1.31-py3-none-any.whl (184 kB)\n",
            "     ━━━━━━━━━━━━━━━━━━━━━━━━━━━━━━━━━━━━━━ 184.3/184.3 kB 11.2 MB/s eta 0:00:00\n",
            "Collecting gitdb<5,>=4.0.1 (from gitpython)\n",
            "  Downloading gitdb-4.0.10-py3-none-any.whl (62 kB)\n",
            "     ━━━━━━━━━━━━━━━━━━━━━━━━━━━━━━━━━━━━━━━━ 62.7/62.7 kB 9.8 MB/s eta 0:00:00\n",
            "Collecting smmap<6,>=3.0.1 (from gitdb<5,>=4.0.1->gitpython)\n",
            "  Downloading smmap-5.0.0-py3-none-any.whl (24 kB)\n",
            "Installing collected packages: smmap, gitdb, gitpython\n",
            "Successfully installed gitdb-4.0.10 gitpython-3.1.31 smmap-5.0.0\n",
            "\n",
            "\u001b[31m\u001b[1mrequirements:\u001b[0m 1 package updated per ['gitpython']\n",
            "\u001b[31m\u001b[1mrequirements:\u001b[0m ⚠️ \u001b[1mRestart runtime or rerun command for updates to take effect\u001b[0m\n",
            "\n",
            "\u001b[34m\u001b[1mclassify/train: \u001b[0mmodel=yolov5s-cls.pt, data=custom_dataset, epochs=50, batch_size=16, imgsz=640, nosave=False, cache=ram, device=, workers=8, project=runs/train-cls, name=exp, exist_ok=False, pretrained=True, optimizer=Adam, lr0=0.001, decay=5e-05, label_smoothing=0.1, cutoff=None, dropout=None, verbose=False, seed=0, local_rank=-1\n",
            "\u001b[34m\u001b[1mgithub: \u001b[0mskipping check (not a git repository), for updates see https://github.com/ultralytics/yolov5\n",
            "\u001b[31m\u001b[1mrequirements:\u001b[0m YOLOv5 requirements \"ipython\" \"thop>=0.1.1\" not found, attempting AutoUpdate...\n",
            "Looking in indexes: https://pypi.org/simple, https://us-python.pkg.dev/colab-wheels/public/simple/\n",
            "Requirement already satisfied: ipython in /usr/local/lib/python3.10/dist-packages (7.34.0)\n",
            "Collecting thop>=0.1.1\n",
            "  Downloading thop-0.1.1.post2209072238-py3-none-any.whl (15 kB)\n",
            "Requirement already satisfied: setuptools>=18.5 in /usr/local/lib/python3.10/dist-packages (from ipython) (67.7.2)\n",
            "Collecting jedi>=0.16 (from ipython)\n",
            "  Downloading jedi-0.18.2-py2.py3-none-any.whl (1.6 MB)\n",
            "     ━━━━━━━━━━━━━━━━━━━━━━━━━━━━━━━━━━━━━━━━ 1.6/1.6 MB 48.0 MB/s eta 0:00:00\n",
            "Requirement already satisfied: decorator in /usr/local/lib/python3.10/dist-packages (from ipython) (4.4.2)\n",
            "Requirement already satisfied: pickleshare in /usr/local/lib/python3.10/dist-packages (from ipython) (0.7.5)\n",
            "Requirement already satisfied: traitlets>=4.2 in /usr/local/lib/python3.10/dist-packages (from ipython) (5.7.1)\n",
            "Requirement already satisfied: prompt-toolkit!=3.0.0,!=3.0.1,<3.1.0,>=2.0.0 in /usr/local/lib/python3.10/dist-packages (from ipython) (3.0.38)\n",
            "Requirement already satisfied: pygments in /usr/local/lib/python3.10/dist-packages (from ipython) (2.14.0)\n",
            "Requirement already satisfied: backcall in /usr/local/lib/python3.10/dist-packages (from ipython) (0.2.0)\n",
            "Requirement already satisfied: matplotlib-inline in /usr/local/lib/python3.10/dist-packages (from ipython) (0.1.6)\n",
            "Requirement already satisfied: pexpect>4.3 in /usr/local/lib/python3.10/dist-packages (from ipython) (4.8.0)\n",
            "Requirement already satisfied: torch in /usr/local/lib/python3.10/dist-packages (from thop>=0.1.1) (2.0.0+cu118)\n",
            "Requirement already satisfied: parso<0.9.0,>=0.8.0 in /usr/local/lib/python3.10/dist-packages (from jedi>=0.16->ipython) (0.8.3)\n",
            "Requirement already satisfied: ptyprocess>=0.5 in /usr/local/lib/python3.10/dist-packages (from pexpect>4.3->ipython) (0.7.0)\n",
            "Requirement already satisfied: wcwidth in /usr/local/lib/python3.10/dist-packages (from prompt-toolkit!=3.0.0,!=3.0.1,<3.1.0,>=2.0.0->ipython) (0.2.6)\n",
            "Requirement already satisfied: filelock in /usr/local/lib/python3.10/dist-packages (from torch->thop>=0.1.1) (3.12.0)\n",
            "Requirement already satisfied: typing-extensions in /usr/local/lib/python3.10/dist-packages (from torch->thop>=0.1.1) (4.5.0)\n",
            "Requirement already satisfied: sympy in /usr/local/lib/python3.10/dist-packages (from torch->thop>=0.1.1) (1.11.1)\n",
            "Requirement already satisfied: networkx in /usr/local/lib/python3.10/dist-packages (from torch->thop>=0.1.1) (3.1)\n",
            "Requirement already satisfied: jinja2 in /usr/local/lib/python3.10/dist-packages (from torch->thop>=0.1.1) (3.1.2)\n",
            "Requirement already satisfied: triton==2.0.0 in /usr/local/lib/python3.10/dist-packages (from torch->thop>=0.1.1) (2.0.0)\n",
            "Requirement already satisfied: cmake in /usr/local/lib/python3.10/dist-packages (from triton==2.0.0->torch->thop>=0.1.1) (3.25.2)\n",
            "Requirement already satisfied: lit in /usr/local/lib/python3.10/dist-packages (from triton==2.0.0->torch->thop>=0.1.1) (16.0.3)\n",
            "Requirement already satisfied: MarkupSafe>=2.0 in /usr/local/lib/python3.10/dist-packages (from jinja2->torch->thop>=0.1.1) (2.1.2)\n",
            "Requirement already satisfied: mpmath>=0.19 in /usr/local/lib/python3.10/dist-packages (from sympy->torch->thop>=0.1.1) (1.3.0)\n",
            "Installing collected packages: jedi, thop\n",
            "Successfully installed jedi-0.18.2 thop-0.1.1.post2209072238\n",
            "\n",
            "\u001b[31m\u001b[1mrequirements:\u001b[0m 2 packages updated per /content/drive/MyDrive/fyp_classification/yolov5-master/requirements.txt\n",
            "\u001b[31m\u001b[1mrequirements:\u001b[0m ⚠️ \u001b[1mRestart runtime or rerun command for updates to take effect\u001b[0m\n",
            "\n",
            "YOLOv5 🚀 2022-11-22 Python-3.10.11 torch-2.0.0+cu118 CUDA:0 (Tesla T4, 15102MiB)\n",
            "\n",
            "\u001b[34m\u001b[1mTensorBoard: \u001b[0mStart with 'tensorboard --logdir runs/train-cls', view at http://localhost:6006/\n",
            "\u001b[34m\u001b[1malbumentations: \u001b[0mRandomResizedCrop(p=1.0, height=640, width=640, scale=(0.08, 1.0), ratio=(0.75, 1.3333333333333333), interpolation=1), HorizontalFlip(p=0.5), ColorJitter(p=0.5, brightness=[0.6, 1.4], contrast=[0.6, 1.4], saturation=[0.6, 1.4], hue=[0, 0]), Normalize(p=1.0, mean=(0.485, 0.456, 0.406), std=(0.229, 0.224, 0.225), max_pixel_value=255.0), ToTensorV2(always_apply=True, p=1.0, transpose_mask=False)\n",
            "Model summary: 149 layers, 4178885 parameters, 4178885 gradients\n",
            "\u001b[34m\u001b[1moptimizer:\u001b[0m Adam(lr=0.001) with parameter groups 32 weight(decay=0.0), 33 weight(decay=5e-05), 33 bias\n",
            "Image sizes 640 train, 640 test\n",
            "Using 1 dataloader workers\n",
            "Logging results to \u001b[1mruns/train-cls/exp3\u001b[0m\n",
            "Starting yolov5s-cls.pt training on custom_dataset dataset with 5 classes for 50 epochs...\n",
            "\n",
            "     Epoch   GPU_mem  train_loss    val_loss    top1_acc    top5_acc\n",
            "      1/50     2.66G        1.52        1.61       0.397           1: 100% 33/33 [05:18<00:00,  9.65s/it]\n",
            "      2/50     3.19G        1.35        1.57       0.457           1: 100% 33/33 [00:21<00:00,  1.54it/s]\n",
            "      3/50     3.19G        1.31        1.51       0.487           1: 100% 33/33 [00:22<00:00,  1.47it/s]\n",
            "      4/50     3.19G        1.26        3.03       0.415           1: 100% 33/33 [00:22<00:00,  1.49it/s]\n",
            "      5/50     3.19G        1.24        1.86       0.479           1: 100% 33/33 [00:21<00:00,  1.55it/s]\n",
            "      6/50     3.19G        1.21        1.46         0.5           1: 100% 33/33 [00:22<00:00,  1.46it/s]\n",
            "      7/50     3.19G        1.27        1.27       0.568           1: 100% 33/33 [00:22<00:00,  1.49it/s]\n",
            "      8/50     3.19G        1.17        1.24       0.538           1: 100% 33/33 [00:26<00:00,  1.23it/s]\n",
            "      9/50     3.19G        1.18        1.32       0.474           1: 100% 33/33 [00:24<00:00,  1.33it/s]\n",
            "     10/50     3.19G        1.21        1.37       0.521           1: 100% 33/33 [00:23<00:00,  1.43it/s]\n",
            "     11/50     3.19G        1.17        2.23       0.376           1: 100% 33/33 [00:24<00:00,  1.37it/s]\n",
            "     12/50     3.19G        1.14        1.48       0.483           1: 100% 33/33 [00:21<00:00,  1.50it/s]\n",
            "     13/50     3.19G        1.07        1.24       0.641           1: 100% 33/33 [00:24<00:00,  1.37it/s]\n",
            "     14/50     3.19G         1.1        1.44       0.521           1: 100% 33/33 [00:23<00:00,  1.43it/s]\n",
            "     15/50     3.19G        1.08        1.29       0.611           1: 100% 33/33 [00:22<00:00,  1.44it/s]\n",
            "     16/50     3.19G        1.08        1.25       0.632           1: 100% 33/33 [00:21<00:00,  1.55it/s]\n",
            "     17/50     3.19G        1.03         1.4       0.573           1: 100% 33/33 [00:22<00:00,  1.46it/s]\n",
            "     18/50     3.19G        1.09        1.54       0.577           1: 100% 33/33 [00:22<00:00,  1.49it/s]\n",
            "     19/50     3.19G       0.958        1.34       0.603           1: 100% 33/33 [00:23<00:00,  1.41it/s]\n",
            "     20/50     3.19G        1.01        1.44       0.654           1: 100% 33/33 [00:22<00:00,  1.49it/s]\n",
            "     21/50     3.19G        1.05        1.24       0.603           1: 100% 33/33 [00:21<00:00,  1.51it/s]\n",
            "     22/50     3.19G        1.02        1.26       0.641           1: 100% 33/33 [00:22<00:00,  1.44it/s]\n",
            "     23/50     3.19G       0.986        1.14       0.675           1: 100% 33/33 [00:21<00:00,  1.51it/s]\n",
            "     24/50     3.19G       0.984        1.15       0.662           1: 100% 33/33 [00:20<00:00,  1.57it/s]\n",
            "     25/50     3.19G       0.977        1.08       0.641           1: 100% 33/33 [00:22<00:00,  1.47it/s]\n",
            "     26/50     3.19G        0.93        1.33       0.645           1: 100% 33/33 [00:20<00:00,  1.57it/s]\n",
            "     27/50     3.19G        0.91        1.22       0.632           1: 100% 33/33 [00:22<00:00,  1.45it/s]\n",
            "     28/50     3.19G       0.917        1.14       0.667           1: 100% 33/33 [00:21<00:00,  1.51it/s]\n",
            "     29/50     3.19G         0.9        1.16        0.65           1: 100% 33/33 [00:20<00:00,  1.58it/s]\n",
            "     30/50     3.19G       0.857         1.1       0.718           1: 100% 33/33 [00:22<00:00,  1.45it/s]\n",
            "     31/50     3.19G       0.871         1.1       0.692           1: 100% 33/33 [00:21<00:00,  1.52it/s]\n",
            "     32/50     3.19G       0.866        1.11       0.675           1: 100% 33/33 [00:21<00:00,  1.51it/s]\n",
            "     33/50     3.19G       0.851        1.14       0.697           1: 100% 33/33 [00:22<00:00,  1.49it/s]\n",
            "     34/50     3.19G       0.878        1.13       0.688           1: 100% 33/33 [00:21<00:00,  1.53it/s]\n",
            "     35/50     3.19G       0.838        1.26       0.667           1: 100% 33/33 [00:22<00:00,  1.47it/s]\n",
            "     36/50     3.19G       0.812        1.12       0.684           1: 100% 33/33 [00:21<00:00,  1.53it/s]\n",
            "     37/50     3.19G       0.759         1.1       0.705           1: 100% 33/33 [00:22<00:00,  1.50it/s]\n",
            "     38/50     3.19G       0.776        1.06       0.688           1: 100% 33/33 [00:22<00:00,  1.49it/s]\n",
            "     39/50     3.19G       0.744        1.14       0.671           1: 100% 33/33 [00:20<00:00,  1.57it/s]\n",
            "     40/50     3.19G       0.746        1.11       0.705           1: 100% 33/33 [00:22<00:00,  1.45it/s]\n",
            "     41/50     3.19G        0.77        1.18       0.701           1: 100% 33/33 [00:22<00:00,  1.49it/s]\n",
            "     42/50     3.19G       0.726        1.09       0.705           1: 100% 33/33 [00:20<00:00,  1.60it/s]\n",
            "     43/50     3.19G       0.743        1.14       0.726           1: 100% 33/33 [00:22<00:00,  1.48it/s]\n",
            "     44/50     3.19G       0.715         1.1       0.709           1: 100% 33/33 [00:21<00:00,  1.55it/s]\n",
            "     45/50     3.19G       0.666        1.11       0.705           1: 100% 33/33 [00:21<00:00,  1.54it/s]\n",
            "     46/50     3.19G       0.689        1.07       0.714           1: 100% 33/33 [00:21<00:00,  1.55it/s]\n",
            "     47/50     3.19G       0.675        1.06       0.718           1: 100% 33/33 [00:21<00:00,  1.51it/s]\n",
            "     48/50     3.19G       0.672        1.13       0.735           1: 100% 33/33 [00:22<00:00,  1.49it/s]\n",
            "     49/50     3.19G       0.702        1.07       0.731           1: 100% 33/33 [00:20<00:00,  1.60it/s]\n",
            "     50/50     3.19G       0.674        1.03       0.731           1: 100% 33/33 [00:24<00:00,  1.36it/s]\n",
            "\n",
            "Training complete (0.394 hours)\n",
            "Results saved to \u001b[1mruns/train-cls/exp3\u001b[0m\n",
            "Predict:         python classify/predict.py --weights runs/train-cls/exp3/weights/best.pt --source im.jpg\n",
            "Validate:        python classify/val.py --weights runs/train-cls/exp3/weights/best.pt --data custom_dataset\n",
            "Export:          python export.py --weights runs/train-cls/exp3/weights/best.pt --include onnx\n",
            "PyTorch Hub:     model = torch.hub.load('ultralytics/yolov5', 'custom', 'runs/train-cls/exp3/weights/best.pt')\n",
            "Visualize:       https://netron.app\n",
            "\n"
          ]
        }
      ]
    },
    {
      "cell_type": "code",
      "source": [
        "!python classify/val.py --weights runs/train-cls/exp/weights/best.pt --data custom_dataset"
      ],
      "metadata": {
        "id": "DIV7ydyKGZFL",
        "colab": {
          "base_uri": "https://localhost:8080/"
        },
        "outputId": "23716743-741b-4cf0-bda9-c9356f73edd2"
      },
      "execution_count": null,
      "outputs": [
        {
          "output_type": "stream",
          "name": "stdout",
          "text": [
            "\u001b[34m\u001b[1mclassify/val: \u001b[0mdata=custom_dataset, weights=['runs/train-cls/exp/weights/best.pt'], batch_size=128, imgsz=224, device=, workers=8, verbose=True, project=runs/val-cls, name=exp, exist_ok=False, half=False, dnn=False\n",
            "YOLOv5 🚀 v7.0-165-ge382d4c Python-3.10.11 torch-2.0.0+cu118 CUDA:0 (Tesla T4, 15102MiB)\n",
            "\n",
            "Fusing layers... \n",
            "Model summary: 117 layers, 4173093 parameters, 0 gradients, 10.4 GFLOPs\n",
            "validating: 100% 2/2 [00:04<00:00,  2.10s/it]\n",
            "                   Class      Images    top1_acc    top5_acc\n",
            "                     all         234       0.517           1\n",
            "                  classA          67       0.776           1\n",
            "                  classB          48       0.438           1\n",
            "                  classC          60       0.583           1\n",
            "                  classD          44       0.205           1\n",
            "                  classK          15       0.267           1\n",
            "Speed: 0.1ms pre-process, 3.4ms inference, 0.3ms post-process per image at shape (1, 3, 224, 224)\n",
            "Results saved to \u001b[1mruns/val-cls/exp\u001b[0m\n"
          ]
        }
      ]
    },
    {
      "cell_type": "markdown",
      "source": [
        "We can see the inference results show ~3ms inference and the respective classes predicted probabilities."
      ],
      "metadata": {
        "id": "DdGuG-1kNjWT"
      }
    },
    {
      "cell_type": "markdown",
      "source": [
        "###YouTube Example"
      ],
      "metadata": {
        "id": "kCCao9t8se8i"
      }
    },
    {
      "cell_type": "code",
      "source": [
        "#testing\n",
        "!python classify/predict.py --weights runs/train-cls/exp3/weights/best.pt --source \"https://www.firesafeanz.com.au/wp-content/uploads/2021/04/warehouse-fire.jpg\" --name exp_images"
      ],
      "metadata": {
        "id": "heebjpJBsakV",
        "colab": {
          "base_uri": "https://localhost:8080/"
        },
        "outputId": "f52fd306-e3b3-4e65-f190-55b6c7ea9306"
      },
      "execution_count": null,
      "outputs": [
        {
          "output_type": "stream",
          "name": "stdout",
          "text": [
            "\u001b[34m\u001b[1mclassify/predict: \u001b[0mweights=['runs/train-cls/exp3/weights/best.pt'], source=https://www.firesafeanz.com.au/wp-content/uploads/2021/04/warehouse-fire.jpg, data=data/coco128.yaml, imgsz=[224, 224], device=, view_img=False, save_txt=False, nosave=False, augment=False, visualize=False, update=False, project=runs/predict-cls, name=exp_images, exist_ok=False, half=False, dnn=False, vid_stride=1\n",
            "Downloading https://www.firesafeanz.com.au/wp-content/uploads/2021/04/warehouse-fire.jpg to warehouse-fire.jpg...\n",
            "100% 24.0k/24.0k [00:00<00:00, 90.4kB/s]\n",
            "YOLOv5 🚀 2022-11-22 Python-3.10.11 torch-2.0.0+cu118 CUDA:0 (Tesla T4, 15102MiB)\n",
            "\n",
            "Fusing layers... \n",
            "Model summary: 117 layers, 4173093 parameters, 0 gradients, 10.4 GFLOPs\n",
            "image 1/1 /content/drive/MyDrive/fyp_classification/yolov5-master/warehouse-fire.jpg: 224x224 classA 0.82, classC 0.13, classB 0.04, classD 0.01, classK 0.00, 3.0ms\n",
            "Speed: 0.3ms pre-process, 3.0ms inference, 0.1ms NMS per image at shape (1, 3, 224, 224)\n",
            "Results saved to \u001b[1mruns/predict-cls/exp_images2\u001b[0m\n"
          ]
        }
      ]
    }
  ]
}